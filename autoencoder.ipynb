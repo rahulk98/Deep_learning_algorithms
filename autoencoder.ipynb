{
  "nbformat": 4,
  "nbformat_minor": 0,
  "metadata": {
    "colab": {
      "name": "autoencoder.ipynb",
      "version": "0.3.2",
      "provenance": [],
      "include_colab_link": true
    },
    "kernelspec": {
      "name": "python3",
      "display_name": "Python 3"
    },
    "accelerator": "TPU"
  },
  "cells": [
    {
      "cell_type": "markdown",
      "metadata": {
        "id": "view-in-github",
        "colab_type": "text"
      },
      "source": [
        "<a href=\"https://colab.research.google.com/github/rahulk98/Deep_learning_algorithms/blob/master/autoencoder.ipynb\" target=\"_parent\"><img src=\"https://colab.research.google.com/assets/colab-badge.svg\" alt=\"Open In Colab\"/></a>"
      ]
    },
    {
      "cell_type": "code",
      "metadata": {
        "id": "BFkrqcAtqYfx",
        "colab_type": "code",
        "outputId": "890bfa2a-65cf-4efe-f3d8-26412a48e5ff",
        "colab": {
          "base_uri": "https://localhost:8080/",
          "height": 105
        }
      },
      "source": [
        "from keras.layers import Input, Dense\n",
        "from keras.models import Model\n",
        "\n",
        "# this is the size of our encoded representations\n",
        "encoding_dim = 64  # 32 floats -> compression of factor 24.5, assuming the input is 784 floats\n",
        "\n",
        "# this is our input placeholder\n",
        "input_img = Input(shape=(784,))\n",
        "# \"encoded\" is the encoded representation of the input\n",
        "encoded = Dense(encoding_dim, activation='relu')(input_img)\n",
        "# \"decoded\" is the lossy reconstruction of the input\n",
        "decoded = Dense(784, activation='sigmoid')(encoded)\n",
        "\n",
        "# this model maps an input to its reconstruction\n",
        "autoencoder = Model(input_img, decoded)"
      ],
      "execution_count": 1,
      "outputs": [
        {
          "output_type": "stream",
          "text": [
            "Using TensorFlow backend.\n"
          ],
          "name": "stderr"
        },
        {
          "output_type": "stream",
          "text": [
            "WARNING:tensorflow:From /usr/local/lib/python3.6/dist-packages/tensorflow/python/framework/op_def_library.py:263: colocate_with (from tensorflow.python.framework.ops) is deprecated and will be removed in a future version.\n",
            "Instructions for updating:\n",
            "Colocations handled automatically by placer.\n"
          ],
          "name": "stdout"
        }
      ]
    },
    {
      "cell_type": "code",
      "metadata": {
        "id": "tIqJYZYMqoOS",
        "colab_type": "code",
        "colab": {}
      },
      "source": [
        "# this model maps an input to its encoded representation\n",
        "encoder = Model(input_img, encoded)"
      ],
      "execution_count": 0,
      "outputs": []
    },
    {
      "cell_type": "code",
      "metadata": {
        "id": "qVK2MPcFquRc",
        "colab_type": "code",
        "colab": {}
      },
      "source": [
        "autoencoder.compile(optimizer='adadelta', loss='binary_crossentropy')\n"
      ],
      "execution_count": 0,
      "outputs": []
    },
    {
      "cell_type": "code",
      "metadata": {
        "id": "JJrFLEruqyUq",
        "colab_type": "code",
        "colab": {}
      },
      "source": [
        "from keras.datasets import mnist\n",
        "import numpy as np\n",
        "(x_train, _), (x_test, _) = mnist.load_data()"
      ],
      "execution_count": 0,
      "outputs": []
    },
    {
      "cell_type": "code",
      "metadata": {
        "id": "_hx_5h52q2UH",
        "colab_type": "code",
        "outputId": "39e18e41-2e96-455f-cfb1-ddd041a1970a",
        "colab": {
          "base_uri": "https://localhost:8080/",
          "height": 51
        }
      },
      "source": [
        "x_train = x_train.astype('float32') / 255.\n",
        "x_test = x_test.astype('float32') / 255.\n",
        "x_train = x_train.reshape((len(x_train), np.prod(x_train.shape[1:])))\n",
        "x_test = x_test.reshape((len(x_test), np.prod(x_test.shape[1:])))\n",
        "print (x_train.shape)\n",
        "print (x_test.shape)"
      ],
      "execution_count": 5,
      "outputs": [
        {
          "output_type": "stream",
          "text": [
            "(60000, 784)\n",
            "(10000, 784)\n"
          ],
          "name": "stdout"
        }
      ]
    },
    {
      "cell_type": "code",
      "metadata": {
        "id": "qHYDCHWbs34y",
        "colab_type": "code",
        "outputId": "75e614ba-5ec8-4aab-a917-9c36461755ac",
        "colab": {
          "base_uri": "https://localhost:8080/",
          "height": 1822
        }
      },
      "source": [
        "autoencoder.fit(x_train, x_train,\n",
        "                epochs=50,\n",
        "                batch_size=256,\n",
        "                shuffle=True,\n",
        "                validation_data=(x_test, x_test))"
      ],
      "execution_count": 6,
      "outputs": [
        {
          "output_type": "stream",
          "text": [
            "WARNING:tensorflow:From /usr/local/lib/python3.6/dist-packages/tensorflow/python/ops/math_ops.py:3066: to_int32 (from tensorflow.python.ops.math_ops) is deprecated and will be removed in a future version.\n",
            "Instructions for updating:\n",
            "Use tf.cast instead.\n",
            "Train on 60000 samples, validate on 10000 samples\n",
            "Epoch 1/50\n",
            "60000/60000 [==============================] - 5s 82us/step - loss: 0.3444 - val_loss: 0.2670\n",
            "Epoch 2/50\n",
            "60000/60000 [==============================] - 5s 78us/step - loss: 0.2561 - val_loss: 0.2414\n",
            "Epoch 3/50\n",
            "60000/60000 [==============================] - 5s 78us/step - loss: 0.2298 - val_loss: 0.2165\n",
            "Epoch 4/50\n",
            "60000/60000 [==============================] - 5s 79us/step - loss: 0.2093 - val_loss: 0.2000\n",
            "Epoch 5/50\n",
            "60000/60000 [==============================] - 5s 77us/step - loss: 0.1953 - val_loss: 0.1881\n",
            "Epoch 6/50\n",
            "60000/60000 [==============================] - 5s 77us/step - loss: 0.1849 - val_loss: 0.1790\n",
            "Epoch 7/50\n",
            "60000/60000 [==============================] - 5s 78us/step - loss: 0.1765 - val_loss: 0.1713\n",
            "Epoch 8/50\n",
            "60000/60000 [==============================] - 5s 77us/step - loss: 0.1694 - val_loss: 0.1648\n",
            "Epoch 9/50\n",
            "60000/60000 [==============================] - 5s 78us/step - loss: 0.1633 - val_loss: 0.1592\n",
            "Epoch 10/50\n",
            "60000/60000 [==============================] - 5s 78us/step - loss: 0.1580 - val_loss: 0.1543\n",
            "Epoch 11/50\n",
            "60000/60000 [==============================] - 5s 78us/step - loss: 0.1533 - val_loss: 0.1498\n",
            "Epoch 12/50\n",
            "60000/60000 [==============================] - 5s 78us/step - loss: 0.1490 - val_loss: 0.1457\n",
            "Epoch 13/50\n",
            "60000/60000 [==============================] - 5s 78us/step - loss: 0.1451 - val_loss: 0.1420\n",
            "Epoch 14/50\n",
            "60000/60000 [==============================] - 5s 78us/step - loss: 0.1416 - val_loss: 0.1385\n",
            "Epoch 15/50\n",
            "60000/60000 [==============================] - 5s 78us/step - loss: 0.1383 - val_loss: 0.1354\n",
            "Epoch 16/50\n",
            "60000/60000 [==============================] - 5s 78us/step - loss: 0.1352 - val_loss: 0.1324\n",
            "Epoch 17/50\n",
            "60000/60000 [==============================] - 5s 77us/step - loss: 0.1323 - val_loss: 0.1296\n",
            "Epoch 18/50\n",
            "60000/60000 [==============================] - 5s 77us/step - loss: 0.1296 - val_loss: 0.1268\n",
            "Epoch 19/50\n",
            "60000/60000 [==============================] - 5s 77us/step - loss: 0.1270 - val_loss: 0.1244\n",
            "Epoch 20/50\n",
            "60000/60000 [==============================] - 5s 77us/step - loss: 0.1245 - val_loss: 0.1220\n",
            "Epoch 21/50\n",
            "60000/60000 [==============================] - 5s 77us/step - loss: 0.1222 - val_loss: 0.1197\n",
            "Epoch 22/50\n",
            "60000/60000 [==============================] - 5s 78us/step - loss: 0.1200 - val_loss: 0.1175\n",
            "Epoch 23/50\n",
            "60000/60000 [==============================] - 5s 77us/step - loss: 0.1179 - val_loss: 0.1155\n",
            "Epoch 24/50\n",
            "60000/60000 [==============================] - 5s 77us/step - loss: 0.1159 - val_loss: 0.1136\n",
            "Epoch 25/50\n",
            "60000/60000 [==============================] - 5s 77us/step - loss: 0.1140 - val_loss: 0.1117\n",
            "Epoch 26/50\n",
            "60000/60000 [==============================] - 5s 78us/step - loss: 0.1123 - val_loss: 0.1100\n",
            "Epoch 27/50\n",
            "60000/60000 [==============================] - 5s 77us/step - loss: 0.1107 - val_loss: 0.1085\n",
            "Epoch 28/50\n",
            "60000/60000 [==============================] - 5s 77us/step - loss: 0.1091 - val_loss: 0.1070\n",
            "Epoch 29/50\n",
            "60000/60000 [==============================] - 5s 78us/step - loss: 0.1077 - val_loss: 0.1056\n",
            "Epoch 30/50\n",
            "60000/60000 [==============================] - 5s 78us/step - loss: 0.1064 - val_loss: 0.1043\n",
            "Epoch 31/50\n",
            "60000/60000 [==============================] - 5s 77us/step - loss: 0.1051 - val_loss: 0.1031\n",
            "Epoch 32/50\n",
            "60000/60000 [==============================] - 5s 78us/step - loss: 0.1040 - val_loss: 0.1020\n",
            "Epoch 33/50\n",
            "60000/60000 [==============================] - 5s 77us/step - loss: 0.1029 - val_loss: 0.1010\n",
            "Epoch 34/50\n",
            "60000/60000 [==============================] - 5s 77us/step - loss: 0.1019 - val_loss: 0.1000\n",
            "Epoch 35/50\n",
            "60000/60000 [==============================] - 5s 79us/step - loss: 0.1009 - val_loss: 0.0991\n",
            "Epoch 36/50\n",
            "60000/60000 [==============================] - 5s 79us/step - loss: 0.1000 - val_loss: 0.0982\n",
            "Epoch 37/50\n",
            "60000/60000 [==============================] - 5s 79us/step - loss: 0.0992 - val_loss: 0.0974\n",
            "Epoch 38/50\n",
            "60000/60000 [==============================] - 5s 79us/step - loss: 0.0984 - val_loss: 0.0966\n",
            "Epoch 39/50\n",
            "60000/60000 [==============================] - 5s 79us/step - loss: 0.0976 - val_loss: 0.0959\n",
            "Epoch 40/50\n",
            "60000/60000 [==============================] - 5s 79us/step - loss: 0.0969 - val_loss: 0.0952\n",
            "Epoch 41/50\n",
            "60000/60000 [==============================] - 5s 78us/step - loss: 0.0963 - val_loss: 0.0946\n",
            "Epoch 42/50\n",
            "60000/60000 [==============================] - 5s 80us/step - loss: 0.0956 - val_loss: 0.0940\n",
            "Epoch 43/50\n",
            "60000/60000 [==============================] - 5s 82us/step - loss: 0.0950 - val_loss: 0.0934\n",
            "Epoch 44/50\n",
            "60000/60000 [==============================] - 5s 81us/step - loss: 0.0945 - val_loss: 0.0928\n",
            "Epoch 45/50\n",
            "60000/60000 [==============================] - 5s 79us/step - loss: 0.0939 - val_loss: 0.0923\n",
            "Epoch 46/50\n",
            "60000/60000 [==============================] - 5s 79us/step - loss: 0.0934 - val_loss: 0.0918\n",
            "Epoch 47/50\n",
            "60000/60000 [==============================] - 5s 80us/step - loss: 0.0929 - val_loss: 0.0913\n",
            "Epoch 48/50\n",
            "60000/60000 [==============================] - 5s 79us/step - loss: 0.0924 - val_loss: 0.0909\n",
            "Epoch 49/50\n",
            "60000/60000 [==============================] - 5s 79us/step - loss: 0.0920 - val_loss: 0.0905\n",
            "Epoch 50/50\n",
            "60000/60000 [==============================] - 5s 79us/step - loss: 0.0915 - val_loss: 0.0900\n"
          ],
          "name": "stdout"
        },
        {
          "output_type": "execute_result",
          "data": {
            "text/plain": [
              "<keras.callbacks.History at 0x7f35c0266e80>"
            ]
          },
          "metadata": {
            "tags": []
          },
          "execution_count": 6
        }
      ]
    },
    {
      "cell_type": "code",
      "metadata": {
        "id": "lcnuF0F_rPC8",
        "colab_type": "code",
        "outputId": "5d4d5072-449c-416f-c19f-8668ce5935a1",
        "colab": {
          "base_uri": "https://localhost:8080/",
          "height": 196
        }
      },
      "source": [
        "# use Matplotlib (don't ask)\n",
        "import matplotlib.pyplot as plt\n",
        "decoded_imgs = autoencoder.predict(x_test)\n",
        "n = 20  # how many digits we will display\n",
        "plt.figure(figsize=(20, 4))\n",
        "for i in range(n):\n",
        "    # display original\n",
        "    ax = plt.subplot(2, n, i + 1)\n",
        "    plt.imshow(x_test[i].reshape(28, 28))\n",
        "    plt.gray()\n",
        "    ax.get_xaxis().set_visible(False)\n",
        "    ax.get_yaxis().set_visible(False)\n",
        "\n",
        "    # display reconstruction\n",
        "    ax = plt.subplot(2, n, i + 1 + n)\n",
        "    plt.imshow(decoded_imgs[i].reshape(28, 28))\n",
        "    plt.gray()\n",
        "    ax.get_xaxis().set_visible(False)\n",
        "    ax.get_yaxis().set_visible(False)\n",
        "plt.show()"
      ],
      "execution_count": 7,
      "outputs": [
        {
          "output_type": "display_data",
          "data": {
            "image/png": "[encoded data removed]",
            "text/plain": [
              "<Figure size 1440x288 with 40 Axes>"
            ]
          },
          "metadata": {
            "tags": []
          }
        }
      ]
    },
    {
      "cell_type": "code",
      "metadata": {
        "id": "LxuMeG4WPdSl",
        "colab_type": "code",
        "colab": {
          "base_uri": "https://localhost:8080/",
          "height": 511
        },
        "outputId": "af204375-57dc-45c9-88bd-4c760a491add"
      },
      "source": [
        "from keras.layers import Input, Dense, Conv2D, MaxPooling2D, UpSampling2D\n",
        "from keras.models import Model\n",
        "from keras import backend as K\n",
        "#Image denoising using autoencoder\n",
        "#Adding Guassian noise to mnist data\n",
        "\n",
        "(x_train, _), (x_test, _) = mnist.load_data()\n",
        "\n",
        "x_train = x_train.astype('float32') / 255.\n",
        "x_test = x_test.astype('float32') / 255.\n",
        "x_train = np.reshape(x_train, (len(x_train), 28, 28, 1))  \n",
        "x_test = np.reshape(x_test, (len(x_test), 28, 28, 1))\n",
        "\n",
        "noise_factor = 0.5\n",
        "x_train_noisy = x_train + noise_factor * np.random.normal(loc=0.0, scale=1.0, size=x_train.shape) \n",
        "x_test_noisy = x_test + noise_factor * np.random.normal(loc=0.0, scale=1.0, size=x_test.shape) \n",
        "\n",
        "x_train_noisy = np.clip(x_train_noisy, 0., 1.)\n",
        "x_test_noisy = np.clip(x_test_noisy, 0., 1.)\n",
        "\n",
        "#Creating an CNN encoder and decoder\n",
        "input_img = Input(shape=(28, 28, 1))  # adapt this if using `channels_first` image data format\n",
        "\n",
        "x = Conv2D(32, (3, 3), activation='relu', padding='same')(input_img)\n",
        "x = MaxPooling2D((2, 2), padding='same')(x)\n",
        "x = Conv2D(32, (3, 3), activation='relu', padding='same')(x)\n",
        "encoded = MaxPooling2D((2, 2), padding='same')(x)\n",
        "\n",
        "# at this point the representation is (7, 7, 32)\n",
        "\n",
        "x = Conv2D(32, (3, 3), activation='relu', padding='same')(encoded)\n",
        "x = UpSampling2D((2, 2))(x)\n",
        "x = Conv2D(32, (3, 3), activation='relu', padding='same')(x)\n",
        "x = UpSampling2D((2, 2))(x)\n",
        "decoded = Conv2D(1, (3, 3), activation='sigmoid', padding='same')(x)\n",
        "\n",
        "autoencoder = Model(input_img, decoded)\n",
        "autoencoder.compile(optimizer='adadelta', loss='binary_crossentropy')\n",
        "\n",
        "autoencoder.fit(x_train_noisy, x_train,\n",
        "                epochs=3,\n",
        "                batch_size=128,\n",
        "                shuffle=True,\n",
        "                validation_data=(x_test_noisy, x_test))\n",
        "\n",
        "\n",
        "\n"
      ],
      "execution_count": 8,
      "outputs": [
        {
          "output_type": "stream",
          "text": [
            "Train on 60000 samples, validate on 10000 samples\n",
            "Epoch 1/3\n",
            "60000/60000 [==============================] - 173s 3ms/step - loss: 0.2033 - val_loss: 0.1457\n",
            "Epoch 2/3\n",
            "60000/60000 [==============================] - 171s 3ms/step - loss: 0.1397 - val_loss: 0.1474\n",
            "Epoch 3/3\n",
            "60000/60000 [==============================] - 170s 3ms/step - loss: 0.1434 - val_loss: 0.1292\n"
          ],
          "name": "stdout"
        },
        {
          "output_type": "error",
          "ename": "ValueError",
          "evalue": "ignored",
          "traceback": [
            "\u001b[0;31m---------------------------------------------------------------------------\u001b[0m",
            "\u001b[0;31mValueError\u001b[0m                                Traceback (most recent call last)",
            "\u001b[0;32m<ipython-input-8-5bb29626b0ce>\u001b[0m in \u001b[0;36m<module>\u001b[0;34m()\u001b[0m\n\u001b[1;32m     50\u001b[0m \u001b[0mplt\u001b[0m\u001b[0;34m.\u001b[0m\u001b[0mfigure\u001b[0m\u001b[0;34m(\u001b[0m\u001b[0mfigsize\u001b[0m\u001b[0;34m=\u001b[0m\u001b[0;34m(\u001b[0m\u001b[0;36m20\u001b[0m\u001b[0;34m,\u001b[0m \u001b[0;36m2\u001b[0m\u001b[0;34m)\u001b[0m\u001b[0;34m)\u001b[0m\u001b[0;34m\u001b[0m\u001b[0;34m\u001b[0m\u001b[0m\n\u001b[1;32m     51\u001b[0m \u001b[0;32mfor\u001b[0m \u001b[0mi\u001b[0m \u001b[0;32min\u001b[0m \u001b[0mrange\u001b[0m\u001b[0;34m(\u001b[0m\u001b[0mn\u001b[0m\u001b[0;34m)\u001b[0m\u001b[0;34m:\u001b[0m\u001b[0;34m\u001b[0m\u001b[0;34m\u001b[0m\u001b[0m\n\u001b[0;32m---> 52\u001b[0;31m   \u001b[0max\u001b[0m \u001b[0;34m=\u001b[0m \u001b[0mplt\u001b[0m\u001b[0;34m.\u001b[0m\u001b[0msubplot\u001b[0m\u001b[0;34m(\u001b[0m\u001b[0;36m1\u001b[0m\u001b[0;34m,\u001b[0m \u001b[0mn\u001b[0m\u001b[0;34m,\u001b[0m \u001b[0mi\u001b[0m\u001b[0;34m)\u001b[0m\u001b[0;34m\u001b[0m\u001b[0;34m\u001b[0m\u001b[0m\n\u001b[0m\u001b[1;32m     53\u001b[0m   \u001b[0mplt\u001b[0m\u001b[0;34m.\u001b[0m\u001b[0mimshow\u001b[0m\u001b[0;34m(\u001b[0m\u001b[0mx_test_noisy\u001b[0m\u001b[0;34m[\u001b[0m\u001b[0mi\u001b[0m\u001b[0;34m]\u001b[0m\u001b[0;34m.\u001b[0m\u001b[0mreshape\u001b[0m\u001b[0;34m(\u001b[0m\u001b[0;36m28\u001b[0m\u001b[0;34m,\u001b[0m \u001b[0;36m28\u001b[0m\u001b[0;34m)\u001b[0m\u001b[0;34m)\u001b[0m\u001b[0;34m\u001b[0m\u001b[0;34m\u001b[0m\u001b[0m\n\u001b[1;32m     54\u001b[0m   \u001b[0mplt\u001b[0m\u001b[0;34m.\u001b[0m\u001b[0mgray\u001b[0m\u001b[0;34m(\u001b[0m\u001b[0;34m)\u001b[0m\u001b[0;34m\u001b[0m\u001b[0;34m\u001b[0m\u001b[0m\n",
            "\u001b[0;32m/usr/local/lib/python3.6/dist-packages/matplotlib/pyplot.py\u001b[0m in \u001b[0;36msubplot\u001b[0;34m(*args, **kwargs)\u001b[0m\n\u001b[1;32m   1082\u001b[0m \u001b[0;34m\u001b[0m\u001b[0m\n\u001b[1;32m   1083\u001b[0m     \u001b[0mfig\u001b[0m \u001b[0;34m=\u001b[0m \u001b[0mgcf\u001b[0m\u001b[0;34m(\u001b[0m\u001b[0;34m)\u001b[0m\u001b[0;34m\u001b[0m\u001b[0;34m\u001b[0m\u001b[0m\n\u001b[0;32m-> 1084\u001b[0;31m     \u001b[0ma\u001b[0m \u001b[0;34m=\u001b[0m \u001b[0mfig\u001b[0m\u001b[0;34m.\u001b[0m\u001b[0madd_subplot\u001b[0m\u001b[0;34m(\u001b[0m\u001b[0;34m*\u001b[0m\u001b[0margs\u001b[0m\u001b[0;34m,\u001b[0m \u001b[0;34m**\u001b[0m\u001b[0mkwargs\u001b[0m\u001b[0;34m)\u001b[0m\u001b[0;34m\u001b[0m\u001b[0;34m\u001b[0m\u001b[0m\n\u001b[0m\u001b[1;32m   1085\u001b[0m     \u001b[0mbbox\u001b[0m \u001b[0;34m=\u001b[0m \u001b[0ma\u001b[0m\u001b[0;34m.\u001b[0m\u001b[0mbbox\u001b[0m\u001b[0;34m\u001b[0m\u001b[0;34m\u001b[0m\u001b[0m\n\u001b[1;32m   1086\u001b[0m     \u001b[0mbyebye\u001b[0m \u001b[0;34m=\u001b[0m \u001b[0;34m[\u001b[0m\u001b[0;34m]\u001b[0m\u001b[0;34m\u001b[0m\u001b[0;34m\u001b[0m\u001b[0m\n",
            "\u001b[0;32m/usr/local/lib/python3.6/dist-packages/matplotlib/figure.py\u001b[0m in \u001b[0;36madd_subplot\u001b[0;34m(self, *args, **kwargs)\u001b[0m\n\u001b[1;32m   1365\u001b[0m                     \u001b[0mself\u001b[0m\u001b[0;34m.\u001b[0m\u001b[0m_axstack\u001b[0m\u001b[0;34m.\u001b[0m\u001b[0mremove\u001b[0m\u001b[0;34m(\u001b[0m\u001b[0max\u001b[0m\u001b[0;34m)\u001b[0m\u001b[0;34m\u001b[0m\u001b[0;34m\u001b[0m\u001b[0m\n\u001b[1;32m   1366\u001b[0m \u001b[0;34m\u001b[0m\u001b[0m\n\u001b[0;32m-> 1367\u001b[0;31m             \u001b[0ma\u001b[0m \u001b[0;34m=\u001b[0m \u001b[0msubplot_class_factory\u001b[0m\u001b[0;34m(\u001b[0m\u001b[0mprojection_class\u001b[0m\u001b[0;34m)\u001b[0m\u001b[0;34m(\u001b[0m\u001b[0mself\u001b[0m\u001b[0;34m,\u001b[0m \u001b[0;34m*\u001b[0m\u001b[0margs\u001b[0m\u001b[0;34m,\u001b[0m \u001b[0;34m**\u001b[0m\u001b[0mkwargs\u001b[0m\u001b[0;34m)\u001b[0m\u001b[0;34m\u001b[0m\u001b[0;34m\u001b[0m\u001b[0m\n\u001b[0m\u001b[1;32m   1368\u001b[0m         \u001b[0mself\u001b[0m\u001b[0;34m.\u001b[0m\u001b[0m_axstack\u001b[0m\u001b[0;34m.\u001b[0m\u001b[0madd\u001b[0m\u001b[0;34m(\u001b[0m\u001b[0mkey\u001b[0m\u001b[0;34m,\u001b[0m \u001b[0ma\u001b[0m\u001b[0;34m)\u001b[0m\u001b[0;34m\u001b[0m\u001b[0;34m\u001b[0m\u001b[0m\n\u001b[1;32m   1369\u001b[0m         \u001b[0mself\u001b[0m\u001b[0;34m.\u001b[0m\u001b[0msca\u001b[0m\u001b[0;34m(\u001b[0m\u001b[0ma\u001b[0m\u001b[0;34m)\u001b[0m\u001b[0;34m\u001b[0m\u001b[0;34m\u001b[0m\u001b[0m\n",
            "\u001b[0;32m/usr/local/lib/python3.6/dist-packages/matplotlib/axes/_subplots.py\u001b[0m in \u001b[0;36m__init__\u001b[0;34m(self, fig, *args, **kwargs)\u001b[0m\n\u001b[1;32m     58\u001b[0m                     raise ValueError(\n\u001b[1;32m     59\u001b[0m                         (\"num must be 1 <= num <= {maxn}, not {num}\"\n\u001b[0;32m---> 60\u001b[0;31m                         ).format(maxn=rows*cols, num=num))\n\u001b[0m\u001b[1;32m     61\u001b[0m                 self._subplotspec = GridSpec(\n\u001b[1;32m     62\u001b[0m                         rows, cols, figure=self.figure)[int(num) - 1]\n",
            "\u001b[0;31mValueError\u001b[0m: num must be 1 <= num <= 10, not 0"
          ]
        },
        {
          "output_type": "display_data",
          "data": {
            "text/plain": [
              "<Figure size 1440x144 with 0 Axes>"
            ]
          },
          "metadata": {
            "tags": []
          }
        }
      ]
    },
    {
      "cell_type": "code",
      "metadata": {
        "id": "oV4QgFlcVXgm",
        "colab_type": "code",
        "colab": {
          "base_uri": "https://localhost:8080/",
          "height": 78
        },
        "outputId": "299afdcd-a894-495e-de07-386178455a1d"
      },
      "source": [
        "decoded_imgs = autoencoder.predict(x_test_noisy)\n",
        "\n",
        "n = 10\n",
        "plt.figure(figsize=(20, 2))\n",
        "for i in range(1, n):\n",
        "  ax = plt.subplot(1, n+10, i)\n",
        "  plt.imshow(x_test_noisy[i].reshape(28, 28))\n",
        "  plt.gray()\n",
        "  ax.get_xaxis().set_visible(False)\n",
        "  ax.get_yaxis().set_visible(False)\n",
        "\n",
        "    # display reconstruction\n",
        "  ax = plt.subplot(1, n+10, i + n)\n",
        "  plt.imshow(decoded_imgs[i].reshape(28, 28))   \n",
        "  plt.gray()\n",
        "  ax.get_xaxis().set_visible(False)  \n",
        "  ax.get_yaxis().set_visible(False)\n",
        "plt.show()"
      ],
      "execution_count": 14,
      "outputs": [
        {
          "output_type": "display_data",
          "data": {
            "image/png": "[encoded data removed]",
            "text/plain": [
              "<Figure size 1440x144 with 18 Axes>"
            ]
          },
          "metadata": {
            "tags": []
          }
        }
      ]
    }
  ]
}